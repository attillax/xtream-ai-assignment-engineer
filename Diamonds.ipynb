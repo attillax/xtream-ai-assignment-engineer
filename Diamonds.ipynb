{
 "cells": [
  {
   "cell_type": "markdown",
   "id": "5f9e980c-3e2f-4dbc-8527-e4d736762fa4",
   "metadata": {},
   "source": [
    "# Data load "
   ]
  },
  {
   "cell_type": "code",
   "execution_count": 9,
   "id": "0c9b23d4-ffb9-4164-a826-752145afddd8",
   "metadata": {},
   "outputs": [
    {
     "name": "stdout",
     "output_type": "stream",
     "text": [
      "      carat        cut color clarity  depth  table  price     x     y     z\n",
      "0      1.10      Ideal     H     SI2   62.0   55.0   4733  6.61  6.65  4.11\n",
      "1      1.29      Ideal     H     SI1   62.6   56.0   6424  6.96  6.93  4.35\n",
      "2      1.20    Premium     I     SI1   61.1   58.0   5510  6.88  6.80  4.18\n",
      "3      1.50      Ideal     F     SI1   60.9   56.0   8770  7.43  7.36  4.50\n",
      "4      0.90  Very Good     F     VS2   61.7   57.0   4493  6.17  6.21  3.82\n",
      "...     ...        ...   ...     ...    ...    ...    ...   ...   ...   ...\n",
      "4995   0.38      Ideal     H    VVS2   62.3   53.3    832  4.65  4.69  2.91\n",
      "4996   0.33    Premium     G    VVS2   61.3   59.0    927  4.45  4.42  2.72\n",
      "4997   1.25      Ideal     J    VVS2   62.1   56.0   5980  6.81  6.84  4.24\n",
      "4998   0.31    Premium     F     VS2   62.9   58.0    802  4.31  4.27  2.70\n",
      "4999   0.30      Ideal     H    VVS1   61.2   57.0    655  4.30  4.39  2.66\n",
      "\n",
      "[5000 rows x 10 columns]\n"
     ]
    }
   ],
   "source": [
    "#import libraries\n",
    "import matplotlib.pyplot as plt\n",
    "import numpy as np\n",
    "import pandas as pd\n",
    "\n",
    "#import dataset\n",
    "diamonds = pd.read_csv('datasets\\\\diamonds\\\\diamonds.csv')\n",
    "print(diamonds)"
   ]
  },
  {
   "cell_type": "code",
   "execution_count": null,
   "id": "4d822a0e-d3e1-4394-a1f5-a4b8f59d6a07",
   "metadata": {},
   "outputs": [],
   "source": []
  },
  {
   "cell_type": "code",
   "execution_count": null,
   "id": "f8d03cc2-8f17-4654-aacb-4b674452661f",
   "metadata": {},
   "outputs": [],
   "source": []
  }
 ],
 "metadata": {
  "kernelspec": {
   "display_name": "Python 3 (ipykernel)",
   "language": "python",
   "name": "python3"
  },
  "language_info": {
   "codemirror_mode": {
    "name": "ipython",
    "version": 3
   },
   "file_extension": ".py",
   "mimetype": "text/x-python",
   "name": "python",
   "nbconvert_exporter": "python",
   "pygments_lexer": "ipython3",
   "version": "3.12.2"
  }
 },
 "nbformat": 4,
 "nbformat_minor": 5
}
